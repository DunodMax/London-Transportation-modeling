{
 "cells": [
  {
   "cell_type": "markdown",
   "id": "1b834efe",
   "metadata": {},
   "source": [
    "# MMOB Project"
   ]
  },
  {
   "cell_type": "markdown",
   "id": "df6705b8",
   "metadata": {},
   "source": [
    "# import dataset"
   ]
  },
  {
   "cell_type": "markdown",
   "id": "1359753b",
   "metadata": {},
   "source": [
    "in this cell, relevant libraries are imported, as well as the datafile imported from our github and a dict that will store all results during the project "
   ]
  },
  {
   "cell_type": "code",
   "execution_count": 101,
   "id": "7db8a829",
   "metadata": {
    "scrolled": true
   },
   "outputs": [],
   "source": [
    "import pandas as pd\n",
    "import numpy as np\n",
    "import biogeme.database as db\n",
    "import biogeme.biogeme as bio\n",
    "from biogeme.expressions import Beta, Variable\n",
    "from biogeme import models\n",
    "from biogeme import results as res\n",
    "from biogeme.expressions import DefineVariable, log\n",
    "data_file ='https://raw.githubusercontent.com/DunodMax/London-Transportation-modeling/main/lpmc.dat' #import path \n",
    "LPMC = pd.read_csv(data_file, sep='\\t')\n",
    "LPMC\n",
    "database = db.Database('LPMC', LPMC)\n",
    "all_results = {}"
   ]
  },
  {
   "cell_type": "markdown",
   "id": "d0590b04",
   "metadata": {},
   "source": [
    "# function definition"
   ]
  },
  {
   "cell_type": "code",
   "execution_count": 102,
   "id": "ab699341",
   "metadata": {},
   "outputs": [],
   "source": [
    "def save_results(results,model_number):\n",
    "    \"\"\"This function is giving results and estimations (in a dict format) of a model, and is saving locally those results\n",
    "    in a designated file with dynamic name (in a csv format)\"\"\"\n",
    "    df = pd.DataFrame(results, index=[0])\n",
    "    df.to_csv('estimation_model' + str(model_number) + '.csv', index=False, header=True)"
   ]
  },
  {
   "cell_type": "code",
   "execution_count": 103,
   "id": "c8c9e5da",
   "metadata": {},
   "outputs": [],
   "source": [
    "def estimate_results(model,name):\n",
    "    \"\"\"Function that will estimate parameters of models. It will take an unsestimated biogeme model, will perform\n",
    "    the estimation, and output the estimation on a table\"\"\"\n",
    "    results = model.estimate()\n",
    "    results.getEstimatedParameters()\n",
    "    model.modelName=name\n",
    "    all_results[name] = biogeme_model0.estimate()\n",
    "    save_results(all_results,0)\n",
    "    print(res.compileEstimationResults(all_results))\n",
    "    return (results)\n",
    "    "
   ]
  },
  {
   "cell_type": "code",
   "execution_count": 104,
   "id": "0e5cf203",
   "metadata": {},
   "outputs": [],
   "source": [
    "def ratio_test(best_results,tested_results,lvl_of_confidence):\n",
    "    \"\"\"This function will perform a Loglikelihood ration test with a 95% level of confidence and plot the conclusion\"\"\"\n",
    "    test=tested_results.likelihood_ratio_test(best_results, lvl_of_confidence)\n",
    "    return test\n",
    "    "
   ]
  },
  {
   "cell_type": "code",
   "execution_count": 105,
   "id": "88319258",
   "metadata": {},
   "outputs": [],
   "source": [
    "def download_results():\n",
    "    \"\"\"This function takes no argument but download the dictionnary called 'all_results' containing estimation\n",
    "    and statistics as a csv, on a designated path\"\"\"\n",
    "    df_results=pd.DataFrame.from_dict(all_results.items(), orient='columns')\n",
    "    df_results.to_csv(\"results.csv\")"
   ]
  },
  {
   "cell_type": "markdown",
   "id": "29efbc5c",
   "metadata": {},
   "source": [
    "# Model 0"
   ]
  },
  {
   "cell_type": "markdown",
   "id": "fcc282c3",
   "metadata": {},
   "source": [
    "all useful columns for this model are used as variables"
   ]
  },
  {
   "cell_type": "code",
   "execution_count": 106,
   "id": "b8d50a89",
   "metadata": {},
   "outputs": [],
   "source": [
    "travel_mode=Variable('travel_mode')\n",
    "dur_pt_access=Variable('dur_pt_access')\n",
    "dur_pt_rail=Variable('dur_pt_rail')\n",
    "dur_pt_bus=Variable('dur_pt_bus')\n",
    "dur_pt_int=Variable('dur_pt_int')\n",
    "pt_interchanges=Variable('pt_interchanges')\n",
    "dur_driving=Variable('dur_driving')\n",
    "cost_transit=Variable('cost_transit')\n",
    "cost_driving_fuel=Variable('cost_driving_fuel')\n",
    "cost_driving_ccharge=Variable('cost_driving_ccharge')\n",
    "dur_walking=Variable('dur_walking')\n",
    "dur_cycling=Variable('dur_cycling')"
   ]
  },
  {
   "cell_type": "markdown",
   "id": "08e0734c",
   "metadata": {},
   "source": [
    "Trip duration for each mode are computed ( see report for details about equations)\n",
    "Cost for each mode with a cost are computed ( cycling and walking is considered free)"
   ]
  },
  {
   "cell_type": "code",
   "execution_count": 107,
   "id": "9d07da2e",
   "metadata": {},
   "outputs": [],
   "source": [
    "time_walk=dur_walking\n",
    "time_cycle=dur_cycling\n",
    "time_pt=dur_pt_access+dur_pt_rail+dur_pt_bus+dur_pt_int\n",
    "time_drive=dur_driving\n",
    "\n",
    "cost_drive=cost_driving_ccharge+cost_driving_fuel\n",
    "cost_pt=cost_transit"
   ]
  },
  {
   "cell_type": "markdown",
   "id": "a68d668a",
   "metadata": {},
   "source": [
    "There is 4 different travel mode, we will thus build a model with 4 utility functions, we create 3 alternative specific constant, a generic parameter for travel time and a generic parameter for cost"
   ]
  },
  {
   "cell_type": "code",
   "execution_count": 108,
   "id": "527ddfb5",
   "metadata": {},
   "outputs": [],
   "source": [
    "asc_cycle = Beta('asc_cycle', 0, None, None, 0)\n",
    "asc_pt = Beta('asc_pt', 0, None, None, 0)\n",
    "asc_drive = Beta('asc_drive', 0, None, None, 0)\n",
    "beta_cost = Beta('beta_cost', 0, None, None, 0)\n",
    "beta_time = Beta('beta_time', 0, None, None, 0)"
   ]
  },
  {
   "cell_type": "markdown",
   "id": "afbd2e71",
   "metadata": {},
   "source": [
    "utility functions definition"
   ]
  },
  {
   "cell_type": "code",
   "execution_count": 109,
   "id": "17661004",
   "metadata": {},
   "outputs": [],
   "source": [
    "v_walk_model0= beta_time * time_walk  \n",
    "v_cycle_model0= asc_cycle + beta_time * time_cycle \n",
    "v_pt_model0= asc_pt + beta_time * time_pt + beta_cost * cost_pt\n",
    "v_drive_model0= asc_drive + beta_time * time_drive + beta_cost * cost_drive"
   ]
  },
  {
   "cell_type": "markdown",
   "id": "b204e793",
   "metadata": {},
   "source": [
    "av is used to specify which alternative is available, where we considered any one can uses any transportation mode\n",
    "and thus av takes a very simple format"
   ]
  },
  {
   "cell_type": "code",
   "execution_count": 110,
   "id": "09a242b4",
   "metadata": {},
   "outputs": [],
   "source": [
    "av = {1: 1, 2: 1, 3: 1, 4:1}"
   ]
  },
  {
   "cell_type": "markdown",
   "id": "295c4066",
   "metadata": {},
   "source": [
    "estimation of the parameters for Model 0, all relevant parameters are printed"
   ]
  },
  {
   "cell_type": "code",
   "execution_count": 111,
   "id": "b8605612",
   "metadata": {},
   "outputs": [
    {
     "name": "stdout",
     "output_type": "stream",
     "text": [
      "[15:01:45] < Warning >   You have not defined a name for the model. The output files are named from the model name. The default is [biogemeModelDefaultName]\n",
      "                                       Model0\n",
      "Number of estimated parameters       5.000000\n",
      "Sample size                      81086.000000\n",
      "Final log likelihood            -74975.976075\n",
      "Akaike Information Criterion    149961.952149\n",
      "Bayesian Information Criterion  150008.468477\n",
      "asc_cycle                           -3.798133\n",
      "asc_drive                           -1.223374\n",
      "asc_pt                              -0.503663\n",
      "beta_cost                           -0.171365\n",
      "beta_time                           -5.310159\n",
      "{'Model0': <biogeme.results.bioResults object at 0x7f9d2bb69850>}\n"
     ]
    }
   ],
   "source": [
    "V_model0 = {1: v_walk_model0 , 2: v_cycle_model0, 3: v_pt_model0, 4: v_drive_model0}\n",
    "logprob_model0 = models.loglogit(V_model0, av, travel_mode)\n",
    "biogeme_model0 = bio.BIOGEME(database, logprob_model0)\n",
    "results_0=estimate_results(biogeme_model0,'Model0')\n",
    "print(all_results)"
   ]
  },
  {
   "cell_type": "markdown",
   "id": "af9c8c20",
   "metadata": {},
   "source": [
    "# Model 1 "
   ]
  },
  {
   "cell_type": "markdown",
   "id": "712a2de8",
   "metadata": {},
   "source": [
    "### Time specification"
   ]
  },
  {
   "cell_type": "markdown",
   "id": "fd300db1",
   "metadata": {},
   "source": [
    "We will try a specification where the the cost coeffecient is Generic and the time coefficient is alternative specific"
   ]
  },
  {
   "cell_type": "markdown",
   "id": "9f49a4cd",
   "metadata": {},
   "source": [
    "Again 4 different travel mode, 4 utility functions and 3 alternative specific constant.\n",
    "This time we have the generic parameter for cost and a 4 new specific parameter for travel time"
   ]
  },
  {
   "cell_type": "code",
   "execution_count": 112,
   "id": "44110c8a",
   "metadata": {},
   "outputs": [],
   "source": [
    "beta_time_drive = Beta('beta_time_drive', 0, None, None, 0)\n",
    "beta_time_pt = Beta('beta_time_pt', 0, None, None, 0)\n",
    "beta_time_walk = Beta('beta_time_walk', 0, None, None, 0)\n",
    "beta_time_cycle = Beta('beta_time_cycle', 0, None, None, 0)"
   ]
  },
  {
   "cell_type": "markdown",
   "id": "087e6e16",
   "metadata": {},
   "source": [
    "New utility functions :"
   ]
  },
  {
   "cell_type": "code",
   "execution_count": 113,
   "id": "188c60e3",
   "metadata": {},
   "outputs": [],
   "source": [
    "v_walk_model1 = beta_time_walk * time_walk  \n",
    "v_cycle_model1 = asc_cycle + beta_time_cycle * time_cycle \n",
    "v_pt_model1 = asc_pt + beta_time_pt * time_pt + beta_cost * cost_pt\n",
    "v_drive_model1 = asc_drive + beta_time_drive * time_drive + beta_cost * cost_drive"
   ]
  },
  {
   "cell_type": "markdown",
   "id": "410224b3",
   "metadata": {},
   "source": [
    "Estimation of the parameters for Model 1, all relevant parameters are printed"
   ]
  },
  {
   "cell_type": "code",
   "execution_count": 114,
   "id": "8ac1b493",
   "metadata": {},
   "outputs": [
    {
     "name": "stdout",
     "output_type": "stream",
     "text": [
      "[15:01:59] < Warning >   You have not defined a name for the model. The output files are named from the model name. The default is [biogemeModelDefaultName]\n",
      "                                       Model0         Model1\n",
      "Number of estimated parameters       5.000000       5.000000\n",
      "Sample size                      81086.000000   81086.000000\n",
      "Final log likelihood            -74975.976075  -74975.976075\n",
      "Akaike Information Criterion    149961.952149  149961.952149\n",
      "Bayesian Information Criterion  150008.468477  150008.468477\n",
      "asc_cycle                           -3.798133      -3.798133\n",
      "asc_drive                           -1.223374      -1.223374\n",
      "asc_pt                              -0.503663      -0.503663\n",
      "beta_cost                           -0.171365      -0.171365\n",
      "beta_time                           -5.310159      -5.310159\n",
      "{'Model0': <biogeme.results.bioResults object at 0x7f9d2bb69850>, 'Model1': <biogeme.results.bioResults object at 0x7f9d46a98f70>}\n"
     ]
    }
   ],
   "source": [
    "V_model1 = {1: v_walk_model1 , 2: v_cycle_model1, 3: v_pt_model1, 4: v_drive_model1}\n",
    "logprob_model1 = models.loglogit(V_model1, av, travel_mode)\n",
    "biogeme_model1 = bio.BIOGEME(database, logprob_model1)\n",
    "results_1=estimate_results(biogeme_model1,'Model1')\n",
    "print(all_results)"
   ]
  },
  {
   "cell_type": "markdown",
   "id": "1c3651ff",
   "metadata": {},
   "source": [
    "### Comparaison"
   ]
  },
  {
   "cell_type": "markdown",
   "id": "9d333851",
   "metadata": {},
   "source": [
    "we use log-likehood ratio as the model 0 is a reduction of the model 1"
   ]
  },
  {
   "cell_type": "code",
   "execution_count": 115,
   "id": "6a7f5f84",
   "metadata": {},
   "outputs": [
    {
     "data": {
      "text/plain": [
       "LRTuple(message='H0 can be rejected at level 5.0%', statistic=10247.14611624839, threshold=7.814727903251179)"
      ]
     },
     "execution_count": 115,
     "metadata": {},
     "output_type": "execute_result"
    }
   ],
   "source": [
    "ratio_test(results_0,results_1,0.05)"
   ]
  },
  {
   "cell_type": "code",
   "execution_count": 116,
   "id": "9d27160b",
   "metadata": {},
   "outputs": [],
   "source": [
    "download_results()"
   ]
  },
  {
   "cell_type": "code",
   "execution_count": null,
   "id": "b40b0103",
   "metadata": {},
   "outputs": [],
   "source": []
  }
 ],
 "metadata": {
  "kernelspec": {
   "display_name": "Python 3 (ipykernel)",
   "language": "python",
   "name": "python3"
  },
  "language_info": {
   "codemirror_mode": {
    "name": "ipython",
    "version": 3
   },
   "file_extension": ".py",
   "mimetype": "text/x-python",
   "name": "python",
   "nbconvert_exporter": "python",
   "pygments_lexer": "ipython3",
   "version": "3.9.12"
  },
  "vscode": {
   "interpreter": {
    "hash": "45ea560201869e51ea224bd6c49e0a1394de1cf7a135b36d38ece5cec85bc412"
   }
  }
 },
 "nbformat": 4,
 "nbformat_minor": 5
}
